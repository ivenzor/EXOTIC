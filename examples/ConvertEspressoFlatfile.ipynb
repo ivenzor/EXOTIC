{
 "cells": [
  {
   "cell_type": "code",
   "execution_count": 1,
   "id": "324ab93d",
   "metadata": {},
   "outputs": [],
   "source": [
    "import numpy as np   \n",
    "import matplotlib.pyplot as plt                          # \n",
    "import pandas as pd\n",
    "from statistics import mean\n",
    "import os\n",
    "import fnmatch\n",
    "from astropy.io import fits\n",
    "from eagerbeaver_rvnormalizer import RV_Normalizer\n",
    "from math import sin,cos,tan,asin,acos,atan,radians,degrees,pi\n",
    "from scipy.stats import pearsonr\n",
    "import plotly\n",
    "import plotly.express as px\n",
    "import csv"
   ]
  },
  {
   "cell_type": "code",
   "execution_count": 2,
   "id": "63ff3449",
   "metadata": {},
   "outputs": [],
   "source": [
    "rv_data = {}\n",
    "created=False\n",
    "for filename in os.listdir('ESPRESSO_Full_Data_Set/archive'):    \n",
    "\tif fnmatch.fnmatch(filename, '*.fits'):\n",
    "\t\thdul = fits.open('ESPRESSO_Full_Data_Set/archive/'+filename)\n",
    "\t\tobject_name = hdul[0].header['HIERARCH ESO OBS TARG NAME']\n",
    "\t\tif created:\n",
    "\t\t\tbjd_data = float(hdul[0].header['HIERARCH ESO QC BJD'])\n",
    "\t\t\trv_data['BJD'] += [bjd_data]\n",
    "\t\t\tberv_value = float(hdul[0].header['HIERARCH ESO QC BERV'])*1000.0\n",
    "\t\t\trv_data['target'] += [object_name]\n",
    "\t\t\trv_data['berv'] += [berv_value]                       \n",
    "\t\t\trv_data['berv_err'] += [-99999]\n",
    "\t\t\tbis_value = float(hdul[0].header['HIERARCH ESO QC CCF BIS SPAN'])*1000.0\n",
    "\t\t\trv_data['bispan'] += [bis_value]                        \n",
    "\t\t\tbis_err_value = float(hdul[0].header['HIERARCH ESO QC CCF BIS SPAN ERROR'])*1000.0\n",
    "\t\t\trv_data['bispan_err'] += [bis_err_value]\n",
    "\t\t\tfwhm_value = float(hdul[0].header['HIERARCH ESO QC CCF FWHM'])*1000.0\n",
    "\t\t\trv_data['fwhm'] += [fwhm_value]                        \n",
    "\t\t\tfwhm_err_value = float(hdul[0].header['HIERARCH ESO QC CCF FWHM ERROR'])*1000.0\n",
    "\t\t\trv_data['fwhm_err'] += [fwhm_err_value]\n",
    "\t\t\trv_data['ins_name'] += ['ESPRESSO']\n",
    "\t\t\tcontrast_value = float(hdul[0].header['HIERARCH ESO QC CCF CONTRAST'])*1000.0\n",
    "\t\t\trv_data['contrast'] += [contrast_value]\n",
    "\t\t\tcontrast_err_value = float(hdul[0].header['HIERARCH ESO QC CCF CONTRAST ERROR'])*1000.0\n",
    "\t\t\trv_data['contrast_err'] += [contrast_err_value] \n",
    "\t\t\trv_value = float(hdul[0].header['HIERARCH ESO QC CCF RV'])*1000.0\n",
    "\t\t\trv_data['rv'] += [rv_value]                         \n",
    "\t\t\trv_err_value = float(hdul[0].header['HIERARCH ESO QC CCF RV ERROR'])*1000.0\n",
    "\t\t\trv_data['rv_err'] += [rv_err_value]\n",
    "\t\t\tra_value = float(hdul[0].header['RA'])\n",
    "\t\t\trv_data['RA'] += [ra_value]\n",
    "\t\t\tdec_value = float(hdul[0].header['DEC'])\n",
    "\t\t\trv_data['DEC'] += [dec_value]\n",
    "\t\telse:\n",
    "\t\t\tbjd_data = float(hdul[0].header['HIERARCH ESO QC BJD'])\n",
    "\t\t\trv_data['BJD'] = [bjd_data]\n",
    "\t\t\tberv_value = float(hdul[0].header['HIERARCH ESO QC BERV'])*1000.0\n",
    "\t\t\trv_data['target'] = [object_name]\n",
    "\t\t\trv_data['berv'] = [berv_value]                       \n",
    "\t\t\trv_data['berv_err'] = [-99999]\n",
    "\t\t\tbis_value = float(hdul[0].header['HIERARCH ESO QC CCF BIS SPAN'])*1000.0\n",
    "\t\t\trv_data['bispan'] = [bis_value]                        \n",
    "\t\t\tbis_err_value = float(hdul[0].header['HIERARCH ESO QC CCF BIS SPAN ERROR'])*1000.0\n",
    "\t\t\trv_data['bispan_err'] = [bis_err_value]\n",
    "\t\t\tfwhm_value = float(hdul[0].header['HIERARCH ESO QC CCF FWHM'])*1000.0\n",
    "\t\t\trv_data['fwhm'] = [fwhm_value]                        \n",
    "\t\t\tfwhm_err_value = float(hdul[0].header['HIERARCH ESO QC CCF FWHM ERROR'])*1000.0\n",
    "\t\t\trv_data['fwhm_err'] = [fwhm_err_value]\n",
    "\t\t\trv_data['ins_name'] = ['ESPRESSO']\n",
    "\t\t\tcontrast_value = float(hdul[0].header['HIERARCH ESO QC CCF CONTRAST'])*1000.0\n",
    "\t\t\trv_data['contrast'] = [contrast_value]\n",
    "\t\t\tcontrast_err_value = float(hdul[0].header['HIERARCH ESO QC CCF CONTRAST ERROR'])*1000.0\n",
    "\t\t\trv_data['contrast_err'] = [contrast_err_value] \n",
    "\t\t\trv_value = float(hdul[0].header['HIERARCH ESO QC CCF RV'])*1000.0\n",
    "\t\t\trv_data['rv'] = [rv_value]                         \n",
    "\t\t\trv_err_value = float(hdul[0].header['HIERARCH ESO QC CCF RV ERROR'])*1000.0\n",
    "\t\t\trv_data['rv_err'] = [rv_err_value]\n",
    "\t\t\tra_value = float(hdul[0].header['RA'])\n",
    "\t\t\trv_data['RA'] = [ra_value]\n",
    "\t\t\tdec_value = float(hdul[0].header['DEC'])\n",
    "\t\t\trv_data['DEC'] = [dec_value]            \n",
    "\t\t\tcreated=True\n",
    "\t\thdul.close"
   ]
  },
  {
   "cell_type": "code",
   "execution_count": 3,
   "id": "2778ed77",
   "metadata": {},
   "outputs": [
    {
     "name": "stdout",
     "output_type": "stream",
     "text": [
      "15540\n"
     ]
    }
   ],
   "source": [
    "nt = len(rv_data['BJD'])\n",
    "print(nt)"
   ]
  },
  {
   "cell_type": "code",
   "execution_count": 4,
   "id": "1b03b232",
   "metadata": {},
   "outputs": [
    {
     "name": "stdout",
     "output_type": "stream",
     "text": [
      "330.884931\n"
     ]
    }
   ],
   "source": [
    "print(rv_data[\"RA\"][1])"
   ]
  },
  {
   "cell_type": "code",
   "execution_count": 5,
   "id": "a1a9884a",
   "metadata": {
    "scrolled": true
   },
   "outputs": [],
   "source": [
    "import csv\n",
    "nt = len(rv_data['BJD'])\n",
    "with open('ESPRESSO_flat_file.csv', 'w', newline='') as file:\n",
    "    fieldnames = ['target', 'BJD','rv','rv_err','berv','berv_err','bispan','bispan_err','fwhm','fwhm_err',\n",
    "                 'contrast','contrast_err','ins_name','RA','DEC']\n",
    "    writer = csv.DictWriter(file, fieldnames=fieldnames)\n",
    "\n",
    "    writer.writeheader()\n",
    "    i=0\n",
    "    while i<nt:\n",
    "        writer.writerow({\"target\": rv_data[\"target\"][i],\"BJD\":rv_data[\"BJD\"][i],\"rv\":rv_data[\"rv\"][i],\n",
    "                        \"rv_err\":rv_data[\"rv_err\"][i],\"berv\":rv_data[\"berv\"][i],\"berv_err\":rv_data[\"berv_err\"][i],\n",
    "                        \"bispan\":rv_data[\"bispan\"][i],\"bispan_err\":rv_data[\"bispan_err\"][i],\"fwhm\":rv_data[\"fwhm\"][i],\n",
    "                        \"fwhm_err\":rv_data[\"fwhm_err\"][i],\"contrast\":rv_data[\"contrast\"][i],\"contrast_err\":rv_data[\"contrast_err\"][i],\n",
    "                        \"ins_name\":rv_data[\"ins_name\"][i],\"RA\":rv_data[\"RA\"][i],\"DEC\":rv_data[\"DEC\"][i]})\n",
    "        i+=1\n"
   ]
  },
  {
   "cell_type": "code",
   "execution_count": null,
   "id": "c984f2ed",
   "metadata": {},
   "outputs": [],
   "source": []
  }
 ],
 "metadata": {
  "kernelspec": {
   "display_name": "Python 3 (ipykernel)",
   "language": "python",
   "name": "python3"
  },
  "language_info": {
   "codemirror_mode": {
    "name": "ipython",
    "version": 3
   },
   "file_extension": ".py",
   "mimetype": "text/x-python",
   "name": "python",
   "nbconvert_exporter": "python",
   "pygments_lexer": "ipython3",
   "version": "3.11.5"
  }
 },
 "nbformat": 4,
 "nbformat_minor": 5
}
