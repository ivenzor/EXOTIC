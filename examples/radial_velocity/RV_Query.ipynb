{
 "cells": [
  {
   "cell_type": "markdown",
   "metadata": {},
   "source": [
    "# Radial Velocity Archive Scraper\n",
    "\n",
    "- Query [DACE](https://dace.unige.ch/DACE.php) for radial velocity measurements.\n"
   ]
  },
  {
   "cell_type": "code",
   "execution_count": 29,
   "metadata": {},
   "outputs": [],
   "source": [
    "import os\n",
    "import json\n",
    "from dace_query.spectroscopy import Spectroscopy\n",
    "\n",
    "class RadialVelocityQuery:\n",
    "\n",
    "    def __init__(self, target=None):\n",
    "        self.target = target\n",
    "        self.data = {\n",
    "            \"target\": target,\n",
    "            \"time\": [],\n",
    "            \"instrument\": [],\n",
    "            \"rv\": [],\n",
    "            \"rv_err\": []\n",
    "        }\n",
    "\n",
    "        if target is not None:\n",
    "            self.query_dace()\n",
    "\n",
    "            # more queries can be added here\n",
    "\n",
    "    def query_dace(self):\n",
    "\n",
    "        try:\n",
    "            # query dace for number of RV observations\n",
    "            observedTargets = Spectroscopy.query_database(\n",
    "                limit=1000,\n",
    "                filters={\"public\": {\"is\": True}, \"obj_id_catname\": {\"contains\": [self.target]}},\n",
    "                output_format=\"pandas\"\n",
    "            )\n",
    "        except:\n",
    "            print(f\"error for {self.target}\")\n",
    "\n",
    "        if len(observedTargets) == 0:\n",
    "            print(f\"No RV observations for {self.target}\")\n",
    "        else:\n",
    "            print(f\"Found {len(observedTargets)} RV observations for {self.target} from DACE\")\n",
    "\n",
    "            # extract time, instrument name, rv, error\n",
    "            self.data[\"time\"].extend(observedTargets[\"obj_date_bjd\"] + 2450000) # TODO check this conversion\n",
    "            self.data[\"instrument\"].extend(observedTargets[\"ins_name\"])\n",
    "            self.data[\"rv\"].extend(observedTargets[\"spectro_ccf_rv\"])\n",
    "            self.data[\"rv_err\"].extend(observedTargets[\"spectro_ccf_rv_err\"])\n",
    "\n",
    "            # TODO add activity index? other metrics?\n",
    "\n",
    "    ###############################\n",
    "    # add more functions here\n",
    "    ###############################\n",
    "\n",
    "    def save_to_disk(self, path):\n",
    "        # save data as json\n",
    "        with open(path, 'w') as f:\n",
    "            json.dump(self.data, f)\n",
    "\n",
    "    @staticmethod\n",
    "    def load_from_disk(path):\n",
    "        # load data from json\n",
    "        with open(path, 'r') as f:\n",
    "            data = json.load(f)\n",
    "        rv = RadialVelocityQuery(target=None)\n",
    "        rv.data = data\n",
    "        rv.target = data[\"target\"]\n",
    "        return rv\n"
   ]
  },
  {
   "cell_type": "code",
   "execution_count": 30,
   "metadata": {},
   "outputs": [
    {
     "name": "stdout",
     "output_type": "stream",
     "text": [
      "Found 19 RV observations for WASP-77A from DACE\n"
     ]
    },
    {
     "data": {
      "text/plain": [
       "{'target': 'WASP-77A',\n",
       " 'time': [2505188.6258,\n",
       "  2505891.5721,\n",
       "  2505914.6783,\n",
       "  2505832.8615,\n",
       "  2505856.7095,\n",
       "  2505169.692,\n",
       "  2505832.904,\n",
       "  2505916.6681,\n",
       "  2505170.6625,\n",
       "  2505915.6775,\n",
       "  2505891.7468,\n",
       "  2505163.6091,\n",
       "  2505890.7386,\n",
       "  2505889.7458,\n",
       "  2505890.537,\n",
       "  2505832.911,\n",
       "  2505069.7803,\n",
       "  2505917.65,\n",
       "  2505918.6645],\n",
       " 'instrument': ['CORALIE',\n",
       "  'HARPS',\n",
       "  'CORALIE',\n",
       "  'HARPS',\n",
       "  'CORALIE',\n",
       "  'CORALIE',\n",
       "  'HARPS',\n",
       "  'CORALIE',\n",
       "  'CORALIE',\n",
       "  'CORALIE',\n",
       "  'HARPS',\n",
       "  'CORALIE',\n",
       "  'HARPS',\n",
       "  'HARPS',\n",
       "  'HARPS',\n",
       "  'HARPS',\n",
       "  'CORALIE',\n",
       "  'CORALIE',\n",
       "  'CORALIE'],\n",
       " 'rv': [1969.6,\n",
       "  1767.0,\n",
       "  1710.5,\n",
       "  1462.6,\n",
       "  1865.5,\n",
       "  1967.3,\n",
       "  1511.1,\n",
       "  1708.7,\n",
       "  1570.6,\n",
       "  1332.8,\n",
       "  1988.5,\n",
       "  1336.2,\n",
       "  1865.6,\n",
       "  1406.3,\n",
       "  2022.0,\n",
       "  1523.3,\n",
       "  1324.6,\n",
       "  1954.4,\n",
       "  1554.2],\n",
       " 'rv_err': [5.4,\n",
       "  4.4,\n",
       "  4.3,\n",
       "  2.0,\n",
       "  5.3,\n",
       "  4.9,\n",
       "  2.4,\n",
       "  4.8,\n",
       "  5.3,\n",
       "  4.4,\n",
       "  4.6,\n",
       "  5.2,\n",
       "  4.1,\n",
       "  3.6,\n",
       "  3.7,\n",
       "  2.5,\n",
       "  4.9,\n",
       "  4.7,\n",
       "  6.5]}"
      ]
     },
     "execution_count": 30,
     "metadata": {},
     "output_type": "execute_result"
    }
   ],
   "source": [
    "target = \"WASP-77A\"\n",
    "\n",
    "rv = RadialVelocityQuery(target=target)\n",
    "rv.data"
   ]
  },
  {
   "cell_type": "markdown",
   "metadata": {},
   "source": [
    "Full target list"
   ]
  },
  {
   "cell_type": "code",
   "execution_count": 1,
   "metadata": {},
   "outputs": [
    {
     "name": "stdout",
     "output_type": "stream",
     "text": [
      "Loaded 431 targets\n",
      "431\n",
      "['CoRoT-11 b', 'CoRoT-14 b', 'CoRoT-18 b', 'CoRoT-1 b', 'CoRoT-27 b', 'CoRoT-29 b', 'CoRoT-2 b', 'CoRoT-5 b', 'CoRoT-6 b', 'CoRoT-7 b', 'CoRoT-8 b', 'CoRoTID 223977153 b', 'EPIC 206042996 c', 'Gaia-1 b', 'Gaia-2 b', 'GJ 1214 b', 'GJ 3470 b', 'GJ 436 b', 'GPX-1 b', 'HAT-P-11 b', 'HAT-P-12 b', 'HAT-P-13 b', 'HAT-P-14 b', 'HAT-P-16 b', 'HAT-P-17 b', 'HAT-P-18 b', 'HAT-P-19 b', 'HAT-P-1 b', 'HAT-P-20 b', 'HAT-P-21 b', 'HAT-P-22 b', 'HAT-P-23 b', 'HAT-P-24 b', 'HAT-P-25 b', 'HAT-P-26 b', 'HAT-P-27 b', 'HAT-P-28 b', 'HAT-P-29 b', 'HAT-P-30 b', 'HAT-P-32 b', 'HAT-P-33 b', 'HAT-P-34 b', 'HAT-P-36 b', 'HAT-P-37 b', 'HAT-P-38 b', 'HAT-P-39 b', 'HAT-P-3 b', 'HAT-P-41 b', 'HAT-P-44 b', 'HAT-P-45 b', 'HAT-P-49 b', 'HAT-P-4 b', 'HAT-P-50 b', 'HAT-P-51 b', 'HAT-P-52 b', 'HAT-P-53 b', 'HAT-P-54 b', 'HAT-P-55 b', 'HAT-P-56 b', 'HAT-P-57 b', 'HAT-P-59 b', 'HAT-P-5 b', 'HAT-P-61 b', 'HAT-P-62 b', 'HAT-P-65 b', 'HAT-P-68 b', 'HAT-P-69 b', 'HAT-P-6 b', 'HAT-P-70 b', 'HAT-P-7 b', 'HAT-P-8 b', 'HAT-P-9 b', 'HATS-13 b', 'HATS-18 b', 'HATS-22 b', 'HATS-24 b', 'HATS-26 b', 'HATS-2 b', 'HATS-33 b', 'HATS-34 b', 'HATS-37 A b', 'HATS-38 b', 'HATS-40 b', 'HATS-43 b', 'HATS-44 b', 'HATS-46 b', 'HATS-47 b', 'HATS-4 b', 'HATS-51 b', 'HATS-62 b', 'HATS-64 b', 'HATS-67 b', 'HATS-70 b', 'HATS-74 A b', 'HATS-7 b', 'HATS-9 b', 'HD 149026 b', 'HD 17156 b', 'HD 189733 b', 'HD 209458 b', 'HD 80606 b', 'HIP 65 A b', 'K2-105 b', 'K2-115 b', 'K2-117 b', 'K2-121 b', 'K2-123 b', 'K2-127 b', 'K2-137 b', 'K2-140 b', 'K2-141 c', 'K2-146 b', 'K2-153 b', 'K2-183 b', 'K2-216 b', 'K2-229 b', 'K2-22 b', 'K2-237 b', 'K2-242 b', 'K2-246 b', 'K2-247 c', 'K2-250 b', 'K2-25 b', 'K2-260 b', 'K2-266 b', 'K2-270 c', 'K2-271 b', 'K2-284 b', 'K2-285 b', 'K2-295 b', 'K2-29 b', 'K2-308 b', 'K2-30 b', 'K2-31 b', 'K2-321 b', 'K2-329 b', 'K2-343 b', 'K2-34 b', 'K2-371 b', 'K2-411 b', 'K2-85 b', 'KELT-15 b', 'KELT-16 b', 'KELT-17 b', 'KELT-18 b', 'KELT-19 A b', 'KELT-1 b', 'KELT-20 b', 'KELT-21 b', 'KELT-23 A b', 'KELT-24 b', 'KELT-3 b', 'KELT-4 A b', 'KELT-7 b', 'KELT-8 b', 'Kepler-1086 b', 'Kepler-1087 b', 'Kepler-1124 b', 'Kepler-12 b', 'Kepler-1320 b', 'Kepler-1321 c', 'Kepler-1350 b', 'Kepler-1350 c', 'Kepler-1351 b', 'Kepler-148 c', 'Kepler-1513 b', 'Kepler-1520 b', 'Kepler-1582 b', 'Kepler-15 b', 'Kepler-1650 b', 'Kepler-1651 b', 'Kepler-167 e', 'Kepler-17 b', 'Kepler-210 b', 'Kepler-231 b', 'Kepler-254 b', 'Kepler-257 b', 'Kepler-283 b', 'Kepler-296 c', 'Kepler-412 b', 'Kepler-41 b', 'Kepler-423 b', 'Kepler-424 b', 'Kepler-425 b', 'Kepler-426 b', 'Kepler-428 b', 'Kepler-42 b', 'Kepler-42 c', 'Kepler-43 b', 'Kepler-446 b', 'Kepler-446 c', 'Kepler-447 b', 'Kepler-44 b', 'Kepler-45 b', 'Kepler-471 b', 'Kepler-472 b', 'Kepler-485 b', 'Kepler-488 b', 'Kepler-491 b', 'Kepler-493 b', 'Kepler-495 b', 'Kepler-49 c', 'Kepler-546 b', 'Kepler-548 b', 'Kepler-553 b', 'Kepler-554 b', 'Kepler-586 b', 'Kepler-673 b', 'Kepler-685 b', 'Kepler-686 b', 'Kepler-693 b', 'Kepler-695 b', 'Kepler-697 b', 'Kepler-6 b', 'Kepler-702 b', 'Kepler-718 b', 'Kepler-720 b', 'Kepler-723 b', 'Kepler-729 b', 'Kepler-74 b', 'Kepler-76 b', 'Kepler-77 b', 'Kepler-785 b', 'Kepler-7 b', 'Kepler-818 b', 'Kepler-81 c', 'Kepler-861 b', 'Kepler-8 b', 'Kepler-913 b', 'Kepler-94 b', 'Kepler-957 b', 'KOI-13 b', 'KOI-217 b', 'KPS-1 b', 'LHS 1140 c', 'LP 791-18 c', 'LTT 1445 A b', 'MASCARA-1 b', 'NGTS-10 b', 'NGTS-13 b', 'NGTS-1 b', 'NGTS-24 b', 'NGTS-5 b', 'NGTS-8 b', 'NGTS-9 b', 'Qatar-10 b', 'Qatar-1 b', 'Qatar-2 b', 'Qatar-3 b', 'Qatar-4 b', 'Qatar-5 b', 'Qatar-6 b', 'Qatar-7 b', 'Qatar-8 b', 'Qatar-9 b', 'TIC 257060897 b', 'TOI-1130 b', 'TOI-1181 b', 'TOI-1194 b', 'TOI-1246 b', 'TOI-1246 c', 'TOI-1259 A b', 'TOI-1268 b', 'TOI-1272 b', 'TOI-1333 b', 'TOI-1431 b', 'TOI-1442 b', 'TOI-150.01', 'TOI-1516 b', 'TOI-1518 b', 'TOI-157 b', 'TOI-1634 b', 'TOI-1728 b', 'TOI-1789 b', 'TOI-1811 b', 'TOI-1853 b', 'TOI-1937 A b', 'TOI-2046 b', 'TOI-2109 b', 'TOI-2152 A b', 'TOI-2154 b', 'TOI-2236 b', 'TOI-2445 b', 'TOI-2570 b', 'TOI-2583 A b', 'TOI-2641 b', 'TOI-269 b', 'TOI-270 c', 'TOI-2796 b', 'TOI-2803 A b', 'TOI-2977 b', 'TOI-3629 b', 'TOI-3693 b', 'TOI-3714 b', 'TOI-3757 b', 'TOI-3785 b', 'TOI-3807 b', 'TOI-3819 b', 'TOI-3884 b', 'TOI-4087 b', 'TOI-4137 b', 'TOI-4145 A b', 'TOI-421 c', 'TOI-4463 A b', 'TOI-4479 b', 'TOI-4600 c', 'TOI-4860 b', 'TOI-519 b', 'TOI-5205 b', 'TOI-530 b', 'TOI-532 b', 'TOI-564 b', 'TOI-620 b', 'TOI-674 b', 'TOI-824 b', 'TOI-969 b', 'TRAPPIST-1 b', 'TRAPPIST-1 c', 'TrES-1 b', 'TrES-2 b', 'TrES-3 b', 'TrES-4 b', 'TrES-5 b', 'WASP-103 b', 'WASP-104 b', 'WASP-106 b', 'WASP-107 b', 'WASP-10 b', 'WASP-113 b', 'WASP-114 b', 'WASP-118 b', 'WASP-11 b', 'WASP-121 b', 'WASP-126 b', 'WASP-127 b', 'WASP-129 b', 'WASP-12 b', 'WASP-135 b', 'WASP-138 b', 'WASP-13 b', 'WASP-140 b', 'WASP-148 b', 'WASP-14 b', 'WASP-150 b', 'WASP-153 b', 'WASP-156 b', 'WASP-157 b', 'WASP-160 B b', 'WASP-163 b', 'WASP-164 b', 'WASP-169 b', 'WASP-16 b', 'WASP-170 b', 'WASP-172 b', 'WASP-176 b', 'WASP-177 b', 'WASP-180 A b', 'WASP-181 b', 'WASP-183 b', 'WASP-186 b', 'WASP-18 b', 'WASP-192 b', 'WASP-19 b', 'WASP-1 b', 'WASP-21 b', 'WASP-22 b', 'WASP-23 b', 'WASP-24 b', 'WASP-25 b', 'WASP-26 b', 'WASP-28 b', 'WASP-29 b', 'WASP-2 b', 'WASP-31 b', 'WASP-32 b', 'WASP-33 b', 'WASP-34 b', 'WASP-35 b', 'WASP-36 b', 'WASP-37 b', 'WASP-39 b', 'WASP-3 b', 'WASP-41 b', 'WASP-43 b', 'WASP-45 b', 'WASP-47 b', 'WASP-48 b', 'WASP-49 b', 'WASP-4 b', 'WASP-50 b', 'WASP-52 b', 'WASP-53 b', 'WASP-54 b', 'WASP-55 b', 'WASP-56 b', 'WASP-57 b', 'WASP-58 b', 'WASP-59 b', 'WASP-5 b', 'WASP-60 b', 'WASP-61 b', 'WASP-64 b', 'WASP-65 b', 'WASP-67 b', 'WASP-69 b', 'WASP-6 b', 'WASP-74 b', 'WASP-75 b', 'WASP-76 b', 'WASP-77 A b', 'WASP-80 b', 'WASP-82 b', 'WASP-84 b', 'WASP-85 A b', 'WASP-89 b', 'WASP-91 b', 'WASP-92 b', 'WASP-93 b', 'WASP-96 b', 'WASP-97 b', 'WASP-98 b', 'Wendelstein-1 b', 'Wendelstein-2 b', 'WTS-2 b', 'XO-1 b', 'XO-2 N b', 'XO-3 b', 'XO-4 b', 'XO-5 b', 'XO-6 b', 'XO-7 b']\n"
     ]
    }
   ],
   "source": [
    "from exotic.api.ew import ExoplanetWatch\n",
    "\n",
    "# This will load the results JSON from the link above\n",
    "EW = ExoplanetWatch()\n",
    "print(len(EW.target_list))\n",
    "print(EW.target_list)"
   ]
  },
  {
   "cell_type": "code",
   "execution_count": null,
   "metadata": {},
   "outputs": [],
   "source": [
    "# TODO loop over targets, remove planet indicator and query RVs, save json to disk"
   ]
  }
 ],
 "metadata": {
  "kernelspec": {
   "display_name": "Python 3",
   "language": "python",
   "name": "python3"
  },
  "language_info": {
   "codemirror_mode": {
    "name": "ipython",
    "version": 3
   },
   "file_extension": ".py",
   "mimetype": "text/x-python",
   "name": "python",
   "nbconvert_exporter": "python",
   "pygments_lexer": "ipython3",
   "version": "3.11.0"
  }
 },
 "nbformat": 4,
 "nbformat_minor": 4
}
